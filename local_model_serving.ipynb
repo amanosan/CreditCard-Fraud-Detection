{
 "cells": [
  {
   "cell_type": "code",
   "execution_count": 1,
   "id": "2b38e008",
   "metadata": {},
   "outputs": [],
   "source": [
    "import numpy as np\n",
    "import pandas as pd\n",
    "import mlflow\n",
    "import mlflow.sklearn\n",
    "import seaborn as sns\n",
    "import matplotlib.pyplot as plt\n",
    "\n",
    "from sklearn.preprocessing import StandardScaler\n",
    "from sklearn.model_selection import train_test_split\n",
    "from sklearn.metrics import roc_auc_score, accuracy_score, confusion_matrix\n",
    "\n",
    "import json\n",
    "import subprocess"
   ]
  },
  {
   "cell_type": "code",
   "execution_count": 2,
   "id": "b3136200",
   "metadata": {},
   "outputs": [],
   "source": [
    "# Model Run : f4e64d94b66a43f0b9bc2b9a19deaf3c\n",
    "# Model Name: anomaly_weight_150_fold_2"
   ]
  },
  {
   "cell_type": "markdown",
   "id": "ba82a40a",
   "metadata": {},
   "source": [
    "***TO RUN THE MODEL:***\n",
    "\n",
    "`mlflow models serve --model-uri runs:/f4e64d94b66a43f0b9bc2b9a19deaf3c/anomaly_weight_150_fold_2`\n",
    "\n",
    "MLFlow should create a new conda environment before hosting the\n",
    "model on your local server. The port option -p lets you set a specific port to\n",
    "host the model on."
   ]
  },
  {
   "cell_type": "markdown",
   "id": "24818236",
   "metadata": {},
   "source": [
    "## Querying the Model"
   ]
  },
  {
   "cell_type": "code",
   "execution_count": 3,
   "id": "bdffedfe",
   "metadata": {},
   "outputs": [],
   "source": [
    "# lets load the data\n",
    "df = pd.read_csv(\"data/creditcard.csv\")"
   ]
  },
  {
   "cell_type": "code",
   "execution_count": 11,
   "id": "485c29d3",
   "metadata": {},
   "outputs": [],
   "source": [
    "# selecting 80 points to query the model on\n",
    "input_json = df.iloc[:80].drop(['Time', 'Class'], axis=1).to_json(orient='split')"
   ]
  },
  {
   "cell_type": "markdown",
   "id": "a8571242",
   "metadata": {},
   "source": [
    "Code to send the data to the model and receive the predictions:\n",
    "\n",
    "```\n",
    "proc = subprocess.run([\"curl\", \"-X\", \"POST\", \"-H\",\n",
    "\"Content-Type:application/json; format=pandas-split\",\n",
    "\"--data\", input_json, \"http://127.0.0.1:1235/invocations\"],\n",
    "stdout=subprocess.PIPE, encoding='utf-8')\n",
    "output = proc.stdout\n",
    "```"
   ]
  },
  {
   "cell_type": "markdown",
   "id": "429b28a2",
   "metadata": {},
   "source": [
    "**Before sending the data to the model for inference, we need to scale the data like we did while training our models**"
   ]
  },
  {
   "cell_type": "code",
   "execution_count": 12,
   "id": "fbb8d3d6",
   "metadata": {},
   "outputs": [],
   "source": [
    "normal = df[df.Class == 0].sample(frac=0.5, random_state=2020).reset_index(drop=True)\n",
    "anomaly = df[df.Class == 1]"
   ]
  },
  {
   "cell_type": "code",
   "execution_count": 13,
   "id": "0ffa0fa9",
   "metadata": {},
   "outputs": [],
   "source": [
    "normal_train, normal_test = train_test_split(normal, test_size=0.2, random_state=2020)\n",
    "anomaly_train, anomaly_test = train_test_split(anomaly, test_size=0.2, random_state=2020)"
   ]
  },
  {
   "cell_type": "code",
   "execution_count": 14,
   "id": "61dd86ea",
   "metadata": {},
   "outputs": [
    {
     "data": {
      "text/plain": [
       "StandardScaler()"
      ]
     },
     "execution_count": 14,
     "metadata": {},
     "output_type": "execute_result"
    }
   ],
   "source": [
    "scaler = StandardScaler()\n",
    "scaler.fit(pd.concat((normal, anomaly)).drop(['Time', 'Class'], axis=1))"
   ]
  },
  {
   "cell_type": "code",
   "execution_count": 15,
   "id": "cd079521",
   "metadata": {},
   "outputs": [],
   "source": [
    "# scaling the selected 80 records:\n",
    "scaled_selection = scaler.transform(df.iloc[:80].drop(['Time', 'Class'], axis=1))\n",
    "input_json = pd.DataFrame(scaled_selection).to_json(orient='split')"
   ]
  },
  {
   "cell_type": "code",
   "execution_count": 19,
   "id": "3e25696b",
   "metadata": {},
   "outputs": [],
   "source": [
    "# lets run the code to query the model\n",
    "proc = subprocess.run([\"curl\", \"-X\", \"POST\", \"-H\",\n",
    "                      \"Content-Type:application/json; format=pandas-split\",\n",
    "                      \"--data\", input_json, \"http://127.0.0.1:5000/invocations\"],\n",
    "                     stdout=subprocess.PIPE, encoding='utf-8')\n",
    "\n",
    "output = proc.stdout"
   ]
  },
  {
   "cell_type": "code",
   "execution_count": 20,
   "id": "f245dc7d",
   "metadata": {},
   "outputs": [
    {
     "data": {
      "text/plain": [
       "'[0, 0, 0, 0, 0, 0, 0, 0, 0, 0, 0, 0, 0, 0, 0, 0, 0, 0, 1, 0, 0, 0, 0, 0, 0, 0, 0, 0, 0, 0, 0, 0, 0, 0, 0, 0, 0, 0, 0, 0, 0, 0, 0, 0, 0, 0, 0, 0, 0, 0, 0, 1, 0, 0, 0, 0, 0, 0, 0, 0, 0, 0, 0, 0, 0, 0, 0, 0, 0, 0, 0, 0, 0, 0, 0, 0, 0, 0, 0, 0]'"
      ]
     },
     "execution_count": 20,
     "metadata": {},
     "output_type": "execute_result"
    }
   ],
   "source": [
    "output"
   ]
  },
  {
   "cell_type": "code",
   "execution_count": 23,
   "id": "1371ec84",
   "metadata": {},
   "outputs": [
    {
     "data": {
      "text/html": [
       "<div>\n",
       "<style scoped>\n",
       "    .dataframe tbody tr th:only-of-type {\n",
       "        vertical-align: middle;\n",
       "    }\n",
       "\n",
       "    .dataframe tbody tr th {\n",
       "        vertical-align: top;\n",
       "    }\n",
       "\n",
       "    .dataframe thead th {\n",
       "        text-align: right;\n",
       "    }\n",
       "</style>\n",
       "<table border=\"1\" class=\"dataframe\">\n",
       "  <thead>\n",
       "    <tr style=\"text-align: right;\">\n",
       "      <th></th>\n",
       "      <th>0</th>\n",
       "      <th>1</th>\n",
       "      <th>2</th>\n",
       "      <th>3</th>\n",
       "      <th>4</th>\n",
       "      <th>5</th>\n",
       "      <th>6</th>\n",
       "      <th>7</th>\n",
       "      <th>8</th>\n",
       "      <th>9</th>\n",
       "      <th>...</th>\n",
       "      <th>70</th>\n",
       "      <th>71</th>\n",
       "      <th>72</th>\n",
       "      <th>73</th>\n",
       "      <th>74</th>\n",
       "      <th>75</th>\n",
       "      <th>76</th>\n",
       "      <th>77</th>\n",
       "      <th>78</th>\n",
       "      <th>79</th>\n",
       "    </tr>\n",
       "  </thead>\n",
       "  <tbody>\n",
       "    <tr>\n",
       "      <th>0</th>\n",
       "      <td>0</td>\n",
       "      <td>0</td>\n",
       "      <td>0</td>\n",
       "      <td>0</td>\n",
       "      <td>0</td>\n",
       "      <td>0</td>\n",
       "      <td>0</td>\n",
       "      <td>0</td>\n",
       "      <td>0</td>\n",
       "      <td>0</td>\n",
       "      <td>...</td>\n",
       "      <td>0</td>\n",
       "      <td>0</td>\n",
       "      <td>0</td>\n",
       "      <td>0</td>\n",
       "      <td>0</td>\n",
       "      <td>0</td>\n",
       "      <td>0</td>\n",
       "      <td>0</td>\n",
       "      <td>0</td>\n",
       "      <td>0</td>\n",
       "    </tr>\n",
       "  </tbody>\n",
       "</table>\n",
       "<p>1 rows × 80 columns</p>\n",
       "</div>"
      ],
      "text/plain": [
       "   0   1   2   3   4   5   6   7   8   9   ...  70  71  72  73  74  75  76  \\\n",
       "0   0   0   0   0   0   0   0   0   0   0  ...   0   0   0   0   0   0   0   \n",
       "\n",
       "   77  78  79  \n",
       "0   0   0   0  \n",
       "\n",
       "[1 rows x 80 columns]"
      ]
     },
     "execution_count": 23,
     "metadata": {},
     "output_type": "execute_result"
    }
   ],
   "source": [
    "preds = pd.DataFrame([json.loads(output)])\n",
    "preds"
   ]
  },
  {
   "cell_type": "markdown",
   "id": "98687635",
   "metadata": {},
   "source": [
    "## Evaluating the Model"
   ]
  },
  {
   "cell_type": "code",
   "execution_count": 39,
   "id": "baefb533",
   "metadata": {},
   "outputs": [],
   "source": [
    "y_true = df.iloc[:80].Class\n",
    "preds = preds.T"
   ]
  },
  {
   "cell_type": "code",
   "execution_count": 40,
   "id": "2125ed96",
   "metadata": {},
   "outputs": [],
   "source": [
    "# accuracy and roc\n",
    "eval_acc = accuracy_score(y_true, preds)"
   ]
  },
  {
   "cell_type": "code",
   "execution_count": 41,
   "id": "dd03d6d6",
   "metadata": {},
   "outputs": [
    {
     "name": "stderr",
     "output_type": "stream",
     "text": [
      "d:\\machine learning\\machine learning projects\\credit_card_fraud_detection\\venv\\lib\\site-packages\\pandas\\core\\indexing.py:1732: SettingWithCopyWarning: \n",
      "A value is trying to be set on a copy of a slice from a DataFrame\n",
      "\n",
      "See the caveats in the documentation: https://pandas.pydata.org/pandas-docs/stable/user_guide/indexing.html#returning-a-view-versus-a-copy\n",
      "  self._setitem_single_block(indexer, value, name)\n"
     ]
    }
   ],
   "source": [
    "# since our y_true has only one class, we will make the last record as 1\n",
    "y_true.iloc[-1] = 1\n",
    "eval_roc = roc_auc_score(y_true, preds)"
   ]
  },
  {
   "cell_type": "code",
   "execution_count": 42,
   "id": "baa982f5",
   "metadata": {},
   "outputs": [
    {
     "name": "stdout",
     "output_type": "stream",
     "text": [
      "Accuracy Score: 0.9625\n",
      "ROC Score: 0.4873417721518987\n"
     ]
    }
   ],
   "source": [
    "print(f\"Accuracy Score: {eval_acc}\")\n",
    "print(f\"ROC Score: {eval_roc}\")"
   ]
  },
  {
   "cell_type": "markdown",
   "id": "d1840e3a",
   "metadata": {},
   "source": [
    "## Batch Querying\n",
    "\n",
    "We need batch querying since Local Model served allows only 80 samples to be predicted on at once.\n",
    "\n",
    "So to get around this issue we can try batching the samples and making predictions one batch at a time."
   ]
  },
  {
   "cell_type": "code",
   "execution_count": 52,
   "id": "28e0349f",
   "metadata": {},
   "outputs": [],
   "source": [
    "# getting the data\n",
    "test = df.iloc[:8000]\n",
    "y_true = test.Class\n",
    "test = scaler.transform(test.drop(['Time', 'Class'], axis=1))\n",
    "preds = []"
   ]
  },
  {
   "cell_type": "code",
   "execution_count": 53,
   "id": "1bd76bb1",
   "metadata": {},
   "outputs": [],
   "source": [
    "batch_size = 80\n",
    "for f in range(int(8000/80)):\n",
    "    sample = pd.DataFrame(test[f * batch_size : (f+1) * batch_size]).to_json(orient='split')\n",
    "    proc = subprocess.run([\"curl\", \"-X\", \"POST\", \"-H\",\n",
    "                      \"Content-Type:application/json; format=pandas-split\",\n",
    "                      \"--data\", sample, \"http://127.0.0.1:5000/invocations\"],\n",
    "                     stdout=subprocess.PIPE, encoding='utf-8')\n",
    "    output = proc.stdout\n",
    "    resp = pd.DataFrame([json.loads(output)])\n",
    "    preds = np.concatenate((preds, resp.values[0]))"
   ]
  },
  {
   "cell_type": "code",
   "execution_count": 55,
   "id": "5be432f7",
   "metadata": {},
   "outputs": [],
   "source": [
    "# evaluting the model\n",
    "batch_acc = accuracy_score(y_true, preds)\n",
    "batch_roc = roc_auc_score(y_true, preds)"
   ]
  },
  {
   "cell_type": "code",
   "execution_count": 57,
   "id": "79e4aa3d",
   "metadata": {},
   "outputs": [
    {
     "name": "stdout",
     "output_type": "stream",
     "text": [
      "Accuracy score on our batch of 8000 samples: 0.987\n",
      "ROC score on our batch of 8000 samples: 0.9551426752329687\n"
     ]
    }
   ],
   "source": [
    "print(f\"Accuracy score on our batch of 8000 samples: {batch_acc}\")\n",
    "print(f\"ROC score on our batch of 8000 samples: {batch_roc}\")"
   ]
  },
  {
   "cell_type": "code",
   "execution_count": 62,
   "id": "1547cbb9",
   "metadata": {},
   "outputs": [
    {
     "data": {
      "image/png": "[encoded data removed]",
      "text/plain": [
       "<Figure size 432x288 with 2 Axes>"
      ]
     },
     "metadata": {
      "needs_background": "light"
     },
     "output_type": "display_data"
    }
   ],
   "source": [
    "# lets plot the confusion matrix:\n",
    "conf_matrix = confusion_matrix(y_true, preds)\n",
    "ax = sns.heatmap(conf_matrix, annot=True, fmt='g', cmap='coolwarm')\n",
    "ax.invert_xaxis()\n",
    "ax.invert_yaxis()\n",
    "plt.ylabel('Actual')\n",
    "plt.xlabel('Predicted')\n",
    "plt.title('Confusion Matrix');"
   ]
  },
  {
   "cell_type": "code",
   "execution_count": null,
   "id": "2de69113",
   "metadata": {},
   "outputs": [],
   "source": []
  }
 ],
 "metadata": {
  "kernelspec": {
   "display_name": "Python 3 (ipykernel)",
   "language": "python",
   "name": "python3"
  },
  "language_info": {
   "codemirror_mode": {
    "name": "ipython",
    "version": 3
   },
   "file_extension": ".py",
   "mimetype": "text/x-python",
   "name": "python",
   "nbconvert_exporter": "python",
   "pygments_lexer": "ipython3",
   "version": "3.8.6"
  }
 },
 "nbformat": 4,
 "nbformat_minor": 5
}
