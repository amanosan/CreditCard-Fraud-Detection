{
 "cells": [
  {
   "cell_type": "code",
   "execution_count": 41,
   "id": "7eedaf3b",
   "metadata": {},
   "outputs": [],
   "source": [
    "import pandas as pd\n",
    "import numpy as np\n",
    "import matplotlib.pyplot as plt\n",
    "import seaborn as sns\n",
    "import pickle\n",
    "\n",
    "from sklearn.linear_model import LogisticRegression\n",
    "from sklearn.model_selection import train_test_split, KFold\n",
    "from sklearn.preprocessing import StandardScaler\n",
    "from sklearn.metrics import roc_auc_score, plot_roc_curve, confusion_matrix, plot_confusion_matrix\n",
    "\n",
    "%matplotlib inline"
   ]
  },
  {
   "cell_type": "code",
   "execution_count": 3,
   "id": "fed90dd5",
   "metadata": {},
   "outputs": [],
   "source": [
    "data_path = 'data/creditcard.csv'"
   ]
  },
  {
   "cell_type": "code",
   "execution_count": 4,
   "id": "3c6c0606",
   "metadata": {},
   "outputs": [],
   "source": [
    "df = pd.read_csv(data_path)"
   ]
  },
  {
   "cell_type": "code",
   "execution_count": 5,
   "id": "69cc3970",
   "metadata": {},
   "outputs": [
    {
     "data": {
      "text/html": [
       "<div>\n",
       "<style scoped>\n",
       "    .dataframe tbody tr th:only-of-type {\n",
       "        vertical-align: middle;\n",
       "    }\n",
       "\n",
       "    .dataframe tbody tr th {\n",
       "        vertical-align: top;\n",
       "    }\n",
       "\n",
       "    .dataframe thead th {\n",
       "        text-align: right;\n",
       "    }\n",
       "</style>\n",
       "<table border=\"1\" class=\"dataframe\">\n",
       "  <thead>\n",
       "    <tr style=\"text-align: right;\">\n",
       "      <th></th>\n",
       "      <th>Time</th>\n",
       "      <th>V1</th>\n",
       "      <th>V2</th>\n",
       "      <th>V3</th>\n",
       "      <th>V4</th>\n",
       "      <th>V5</th>\n",
       "      <th>V6</th>\n",
       "      <th>V7</th>\n",
       "      <th>V8</th>\n",
       "      <th>V9</th>\n",
       "      <th>...</th>\n",
       "      <th>V21</th>\n",
       "      <th>V22</th>\n",
       "      <th>V23</th>\n",
       "      <th>V24</th>\n",
       "      <th>V25</th>\n",
       "      <th>V26</th>\n",
       "      <th>V27</th>\n",
       "      <th>V28</th>\n",
       "      <th>Amount</th>\n",
       "      <th>Class</th>\n",
       "    </tr>\n",
       "  </thead>\n",
       "  <tbody>\n",
       "    <tr>\n",
       "      <th>0</th>\n",
       "      <td>0.0</td>\n",
       "      <td>-1.359807</td>\n",
       "      <td>-0.072781</td>\n",
       "      <td>2.536347</td>\n",
       "      <td>1.378155</td>\n",
       "      <td>-0.338321</td>\n",
       "      <td>0.462388</td>\n",
       "      <td>0.239599</td>\n",
       "      <td>0.098698</td>\n",
       "      <td>0.363787</td>\n",
       "      <td>...</td>\n",
       "      <td>-0.018307</td>\n",
       "      <td>0.277838</td>\n",
       "      <td>-0.110474</td>\n",
       "      <td>0.066928</td>\n",
       "      <td>0.128539</td>\n",
       "      <td>-0.189115</td>\n",
       "      <td>0.133558</td>\n",
       "      <td>-0.021053</td>\n",
       "      <td>149.62</td>\n",
       "      <td>0</td>\n",
       "    </tr>\n",
       "    <tr>\n",
       "      <th>1</th>\n",
       "      <td>0.0</td>\n",
       "      <td>1.191857</td>\n",
       "      <td>0.266151</td>\n",
       "      <td>0.166480</td>\n",
       "      <td>0.448154</td>\n",
       "      <td>0.060018</td>\n",
       "      <td>-0.082361</td>\n",
       "      <td>-0.078803</td>\n",
       "      <td>0.085102</td>\n",
       "      <td>-0.255425</td>\n",
       "      <td>...</td>\n",
       "      <td>-0.225775</td>\n",
       "      <td>-0.638672</td>\n",
       "      <td>0.101288</td>\n",
       "      <td>-0.339846</td>\n",
       "      <td>0.167170</td>\n",
       "      <td>0.125895</td>\n",
       "      <td>-0.008983</td>\n",
       "      <td>0.014724</td>\n",
       "      <td>2.69</td>\n",
       "      <td>0</td>\n",
       "    </tr>\n",
       "    <tr>\n",
       "      <th>2</th>\n",
       "      <td>1.0</td>\n",
       "      <td>-1.358354</td>\n",
       "      <td>-1.340163</td>\n",
       "      <td>1.773209</td>\n",
       "      <td>0.379780</td>\n",
       "      <td>-0.503198</td>\n",
       "      <td>1.800499</td>\n",
       "      <td>0.791461</td>\n",
       "      <td>0.247676</td>\n",
       "      <td>-1.514654</td>\n",
       "      <td>...</td>\n",
       "      <td>0.247998</td>\n",
       "      <td>0.771679</td>\n",
       "      <td>0.909412</td>\n",
       "      <td>-0.689281</td>\n",
       "      <td>-0.327642</td>\n",
       "      <td>-0.139097</td>\n",
       "      <td>-0.055353</td>\n",
       "      <td>-0.059752</td>\n",
       "      <td>378.66</td>\n",
       "      <td>0</td>\n",
       "    </tr>\n",
       "    <tr>\n",
       "      <th>3</th>\n",
       "      <td>1.0</td>\n",
       "      <td>-0.966272</td>\n",
       "      <td>-0.185226</td>\n",
       "      <td>1.792993</td>\n",
       "      <td>-0.863291</td>\n",
       "      <td>-0.010309</td>\n",
       "      <td>1.247203</td>\n",
       "      <td>0.237609</td>\n",
       "      <td>0.377436</td>\n",
       "      <td>-1.387024</td>\n",
       "      <td>...</td>\n",
       "      <td>-0.108300</td>\n",
       "      <td>0.005274</td>\n",
       "      <td>-0.190321</td>\n",
       "      <td>-1.175575</td>\n",
       "      <td>0.647376</td>\n",
       "      <td>-0.221929</td>\n",
       "      <td>0.062723</td>\n",
       "      <td>0.061458</td>\n",
       "      <td>123.50</td>\n",
       "      <td>0</td>\n",
       "    </tr>\n",
       "    <tr>\n",
       "      <th>4</th>\n",
       "      <td>2.0</td>\n",
       "      <td>-1.158233</td>\n",
       "      <td>0.877737</td>\n",
       "      <td>1.548718</td>\n",
       "      <td>0.403034</td>\n",
       "      <td>-0.407193</td>\n",
       "      <td>0.095921</td>\n",
       "      <td>0.592941</td>\n",
       "      <td>-0.270533</td>\n",
       "      <td>0.817739</td>\n",
       "      <td>...</td>\n",
       "      <td>-0.009431</td>\n",
       "      <td>0.798278</td>\n",
       "      <td>-0.137458</td>\n",
       "      <td>0.141267</td>\n",
       "      <td>-0.206010</td>\n",
       "      <td>0.502292</td>\n",
       "      <td>0.219422</td>\n",
       "      <td>0.215153</td>\n",
       "      <td>69.99</td>\n",
       "      <td>0</td>\n",
       "    </tr>\n",
       "  </tbody>\n",
       "</table>\n",
       "<p>5 rows × 31 columns</p>\n",
       "</div>"
      ],
      "text/plain": [
       "   Time        V1        V2        V3        V4        V5        V6        V7  \\\n",
       "0   0.0 -1.359807 -0.072781  2.536347  1.378155 -0.338321  0.462388  0.239599   \n",
       "1   0.0  1.191857  0.266151  0.166480  0.448154  0.060018 -0.082361 -0.078803   \n",
       "2   1.0 -1.358354 -1.340163  1.773209  0.379780 -0.503198  1.800499  0.791461   \n",
       "3   1.0 -0.966272 -0.185226  1.792993 -0.863291 -0.010309  1.247203  0.237609   \n",
       "4   2.0 -1.158233  0.877737  1.548718  0.403034 -0.407193  0.095921  0.592941   \n",
       "\n",
       "         V8        V9  ...       V21       V22       V23       V24       V25  \\\n",
       "0  0.098698  0.363787  ... -0.018307  0.277838 -0.110474  0.066928  0.128539   \n",
       "1  0.085102 -0.255425  ... -0.225775 -0.638672  0.101288 -0.339846  0.167170   \n",
       "2  0.247676 -1.514654  ...  0.247998  0.771679  0.909412 -0.689281 -0.327642   \n",
       "3  0.377436 -1.387024  ... -0.108300  0.005274 -0.190321 -1.175575  0.647376   \n",
       "4 -0.270533  0.817739  ... -0.009431  0.798278 -0.137458  0.141267 -0.206010   \n",
       "\n",
       "        V26       V27       V28  Amount  Class  \n",
       "0 -0.189115  0.133558 -0.021053  149.62      0  \n",
       "1  0.125895 -0.008983  0.014724    2.69      0  \n",
       "2 -0.139097 -0.055353 -0.059752  378.66      0  \n",
       "3 -0.221929  0.062723  0.061458  123.50      0  \n",
       "4  0.502292  0.219422  0.215153   69.99      0  \n",
       "\n",
       "[5 rows x 31 columns]"
      ]
     },
     "execution_count": 5,
     "metadata": {},
     "output_type": "execute_result"
    }
   ],
   "source": [
    "df.head()"
   ]
  },
  {
   "cell_type": "code",
   "execution_count": 6,
   "id": "d1ee3a2f",
   "metadata": {},
   "outputs": [
    {
     "data": {
      "text/plain": [
       "(284807, 31)"
      ]
     },
     "execution_count": 6,
     "metadata": {},
     "output_type": "execute_result"
    }
   ],
   "source": [
    "df.shape"
   ]
  },
  {
   "cell_type": "code",
   "execution_count": 7,
   "id": "d742755b",
   "metadata": {},
   "outputs": [],
   "source": [
    "# Sampling the data as we have imbalanced data:\n",
    "\n",
    "# we are reducing the size of the normal data to 50%, ie. we are undersampling \n",
    "normal = df[df.Class == 0].sample(frac=0.5, random_state=2020).reset_index(drop=True)\n",
    "anomaly = df[df.Class == 1]"
   ]
  },
  {
   "cell_type": "code",
   "execution_count": 8,
   "id": "848698d9",
   "metadata": {},
   "outputs": [
    {
     "name": "stdout",
     "output_type": "stream",
     "text": [
      "Normal data shape: (142158, 31)\n",
      "Anomaly data shape: (492, 31)\n"
     ]
    }
   ],
   "source": [
    "print(f\"Normal data shape: {normal.shape}\")\n",
    "print(f\"Anomaly data shape: {anomaly.shape}\")"
   ]
  },
  {
   "cell_type": "code",
   "execution_count": 9,
   "id": "2f9ea7a4",
   "metadata": {},
   "outputs": [],
   "source": [
    "# splitting the data into train and test:\n",
    "\n",
    "normal_train, normal_test = train_test_split(normal, test_size=0.2, random_state=2020)\n",
    "anomaly_train, anomaly_test = train_test_split(anomaly, test_size=0.2, random_state=2020)"
   ]
  },
  {
   "cell_type": "code",
   "execution_count": 10,
   "id": "56c8695b",
   "metadata": {},
   "outputs": [],
   "source": [
    "# splitting the training set into train and validate:\n",
    "\n",
    "normal_train, normal_validate = train_test_split(normal_train, test_size=0.25, random_state=2020)\n",
    "anomaly_train, anomaly_validate = train_test_split(anomaly_train, test_size=0.25, random_state=2020)"
   ]
  },
  {
   "cell_type": "code",
   "execution_count": 11,
   "id": "16958a9a",
   "metadata": {},
   "outputs": [
    {
     "name": "stdout",
     "output_type": "stream",
     "text": [
      "(85294, 31), (28432, 31), (28432, 31)\n",
      "(294, 31), (99, 31), (99, 31)\n"
     ]
    }
   ],
   "source": [
    "print(f\"{normal_train.shape}, {normal_validate.shape}, {normal_test.shape}\")\n",
    "print(f\"{anomaly_train.shape}, {anomaly_validate.shape}, {anomaly_test.shape}\")"
   ]
  },
  {
   "cell_type": "code",
   "execution_count": 14,
   "id": "cdf3627c",
   "metadata": {},
   "outputs": [],
   "source": [
    "# concatenating the train, validate and test sets:\n",
    "\n",
    "X_train = pd.concat((normal_train, anomaly_train))\n",
    "X_validate = pd.concat((normal_validate, anomaly_validate))\n",
    "X_test = pd.concat((normal_test, anomaly_test))"
   ]
  },
  {
   "cell_type": "code",
   "execution_count": 15,
   "id": "3c82f944",
   "metadata": {},
   "outputs": [],
   "source": [
    "# creating the dependent train, validate and test sets:\n",
    "\n",
    "y_train = np.array(X_train['Class'])\n",
    "y_validate = np.array(X_validate['Class'])\n",
    "y_test = np.array(X_test['Class'])"
   ]
  },
  {
   "cell_type": "code",
   "execution_count": 16,
   "id": "1464a5c3",
   "metadata": {},
   "outputs": [],
   "source": [
    "# now dropping the 'Class' column from the X data set:\n",
    "\n",
    "X_train = X_train.drop('Class', axis=1)\n",
    "X_validate = X_validate.drop('Class', axis=1)\n",
    "X_test = X_test.drop('Class', axis=1)"
   ]
  },
  {
   "cell_type": "code",
   "execution_count": 18,
   "id": "f0c3cea8",
   "metadata": {},
   "outputs": [
    {
     "name": "stdout",
     "output_type": "stream",
     "text": [
      "Training Shape:\n",
      " (85588, 30), (85588,)\n",
      "Validation Shape:\n",
      " (28531, 30), (28531,)\n",
      "Test Shape:\n",
      " (28531, 30), (28531,)\n"
     ]
    }
   ],
   "source": [
    "print(f\"Training Shape:\\n {X_train.shape}, {y_train.shape}\")\n",
    "print(f\"Validation Shape:\\n {X_validate.shape}, {y_validate.shape}\")\n",
    "print(f\"Test Shape:\\n {X_test.shape}, {y_test.shape}\")"
   ]
  },
  {
   "cell_type": "code",
   "execution_count": 20,
   "id": "f93b97c7",
   "metadata": {},
   "outputs": [
    {
     "data": {
      "text/plain": [
       "StandardScaler()"
      ]
     },
     "execution_count": 20,
     "metadata": {},
     "output_type": "execute_result"
    }
   ],
   "source": [
    "# Scaling the data:\n",
    "\n",
    "scaler = StandardScaler()\n",
    "scaler.fit(pd.concat((normal, anomaly)).drop('Class', axis=1))"
   ]
  },
  {
   "cell_type": "code",
   "execution_count": 21,
   "id": "88909f19",
   "metadata": {},
   "outputs": [],
   "source": [
    "X_train = scaler.transform(X_train)\n",
    "X_test = scaler.transform(X_test)\n",
    "X_validate = scaler.transform(X_validate)"
   ]
  },
  {
   "cell_type": "code",
   "execution_count": 23,
   "id": "b3a4934a",
   "metadata": {},
   "outputs": [],
   "source": [
    "# training logistic regression:\n",
    "logreg = LogisticRegression(random_state=None, max_iter=400, solver='newton-cg').fit(X_train, y_train)"
   ]
  },
  {
   "cell_type": "code",
   "execution_count": 25,
   "id": "9ff6f1ba",
   "metadata": {},
   "outputs": [],
   "source": [
    "# model evalluation\n",
    "eval_acc = logreg.score(X_test, y_test)\n",
    "\n",
    "preds = logreg.predict(X_test)\n",
    "auc_score = roc_auc_score(y_test, preds)"
   ]
  },
  {
   "cell_type": "code",
   "execution_count": 28,
   "id": "62c9d9fd",
   "metadata": {},
   "outputs": [
    {
     "name": "stdout",
     "output_type": "stream",
     "text": [
      "Accuracy Score: 99.867%\n",
      "AUC Score: 84.331%\n"
     ]
    }
   ],
   "source": [
    "print(f\"Accuracy Score: {eval_acc:.3%}\")\n",
    "print(f\"AUC Score: {auc_score:.3%}\")"
   ]
  },
  {
   "cell_type": "code",
   "execution_count": 29,
   "id": "5bc5be92",
   "metadata": {},
   "outputs": [
    {
     "data": {
      "image/png": "[encoded data removed]",
      "text/plain": [
       "<Figure size 432x288 with 1 Axes>"
      ]
     },
     "metadata": {
      "needs_background": "light"
     },
     "output_type": "display_data"
    }
   ],
   "source": [
    "# Plotting the ROC curve:\n",
    "roc_curve = plot_roc_curve(logreg, X_test, y_test)"
   ]
  },
  {
   "cell_type": "code",
   "execution_count": 30,
   "id": "d4c6a265",
   "metadata": {},
   "outputs": [
    {
     "name": "stdout",
     "output_type": "stream",
     "text": [
      "[[28425     7]\n",
      " [   31    68]]\n"
     ]
    }
   ],
   "source": [
    "# Looking at the confusion matrix:\n",
    "conf_matrix = confusion_matrix(y_test, preds)\n",
    "print(conf_matrix)"
   ]
  },
  {
   "cell_type": "code",
   "execution_count": 32,
   "id": "02fedf64",
   "metadata": {},
   "outputs": [
    {
     "data": {
      "text/plain": [
       "<sklearn.metrics._plot.confusion_matrix.ConfusionMatrixDisplay at 0x19281b702b0>"
      ]
     },
     "execution_count": 32,
     "metadata": {},
     "output_type": "execute_result"
    },
    {
     "data": {
      "image/png": "[encoded data removed]",
      "text/plain": [
       "<Figure size 432x288 with 2 Axes>"
      ]
     },
     "metadata": {
      "needs_background": "light"
     },
     "output_type": "display_data"
    }
   ],
   "source": [
    "# plotting the confusion matrix\n",
    "plot_confusion_matrix(logreg, X_test, y_test)"
   ]
  },
  {
   "cell_type": "code",
   "execution_count": 33,
   "id": "632fae42",
   "metadata": {},
   "outputs": [],
   "source": [
    "# Model Validation using kfold cross validation\n",
    "anomaly_weights = [1, 5, 10, 15]\n",
    "num_folds = 5\n",
    "\n",
    "kfold = KFold(n_splits=num_folds, shuffle=True, random_state=2020)"
   ]
  },
  {
   "cell_type": "code",
   "execution_count": 34,
   "id": "e796e564",
   "metadata": {},
   "outputs": [
    {
     "name": "stdout",
     "output_type": "stream",
     "text": [
      "----------------------------------------\n",
      "fold 1\n",
      "Anomaly Weight: 1\n",
      "AUC: 0.8\n",
      "Eval Accuracy: 0.9985982127212195\n",
      "----------------------------------------\n",
      "fold 2\n",
      "Anomaly Weight: 1\n",
      "AUC: 0.8568790049001132\n",
      "Eval Accuracy: 0.998422712933754\n",
      "----------------------------------------\n",
      "fold 3\n",
      "Anomaly Weight: 1\n",
      "AUC: 0.8179179195189047\n",
      "Eval Accuracy: 0.9980722046968104\n",
      "----------------------------------------\n",
      "fold 4\n",
      "Anomaly Weight: 1\n",
      "AUC: 0.8682452129973255\n",
      "Eval Accuracy: 0.9987732211706976\n",
      "----------------------------------------\n",
      "fold 5\n",
      "Anomaly Weight: 1\n",
      "AUC: 0.8528532875621686\n",
      "Eval Accuracy: 0.9989484752891693\n",
      "\n",
      "Averages: \n",
      "Accuracy: 0.9985629653623302\n",
      "AUC: 0.8391790849957024\n",
      "Best:\n",
      "Accuracy: 0.9989484752891693\n",
      "AUC: 0.8682452129973255\n",
      "----------------------------------------\n",
      "fold 1\n",
      "Anomaly Weight: 5\n",
      "AUC: 0.8748241603657465\n",
      "Eval Accuracy: 0.9987734361310671\n",
      "----------------------------------------\n",
      "fold 2\n",
      "Anomaly Weight: 5\n",
      "AUC: 0.9515893956527202\n",
      "Eval Accuracy: 0.9980722046968104\n",
      "----------------------------------------\n",
      "fold 3\n",
      "Anomaly Weight: 5\n",
      "AUC: 0.9314663169342972\n",
      "Eval Accuracy: 0.9987732211706976\n",
      "----------------------------------------\n",
      "fold 4\n",
      "Anomaly Weight: 5\n",
      "AUC: 0.8943851628367561\n",
      "Eval Accuracy: 0.9985979670522257\n",
      "----------------------------------------\n",
      "fold 5\n",
      "Anomaly Weight: 5\n",
      "AUC: 0.8820013855427915\n",
      "Eval Accuracy: 0.9985979670522257\n",
      "\n",
      "Averages: \n",
      "Accuracy: 0.9985629592206052\n",
      "AUC: 0.9068532842664622\n",
      "Best:\n",
      "Accuracy: 0.9987734361310671\n",
      "AUC: 0.9515893956527202\n",
      "----------------------------------------\n",
      "fold 1\n",
      "Anomaly Weight: 10\n",
      "AUC: 0.9245604009143662\n",
      "Eval Accuracy: 0.9985982127212195\n",
      "----------------------------------------\n",
      "fold 2\n",
      "Anomaly Weight: 10\n",
      "AUC: 0.9751350672194998\n",
      "Eval Accuracy: 0.9977216964598669\n",
      "----------------------------------------\n",
      "fold 3\n",
      "Anomaly Weight: 10\n",
      "AUC: 0.9313783507133262\n",
      "Eval Accuracy: 0.9985979670522257\n",
      "----------------------------------------\n",
      "fold 4\n",
      "Anomaly Weight: 10\n",
      "AUC: 0.8942972430196292\n",
      "Eval Accuracy: 0.998422712933754\n",
      "----------------------------------------\n",
      "fold 5\n",
      "Anomaly Weight: 10\n",
      "AUC: 0.8820013855427915\n",
      "Eval Accuracy: 0.9985979670522257\n",
      "\n",
      "Averages: \n",
      "Accuracy: 0.9983877112438584\n",
      "AUC: 0.9214744894819227\n",
      "Best:\n",
      "Accuracy: 0.9985982127212195\n",
      "AUC: 0.9751350672194998\n",
      "----------------------------------------\n",
      "fold 1\n",
      "Anomaly Weight: 15\n",
      "AUC: 0.9242087216458591\n",
      "Eval Accuracy: 0.9978973190818293\n",
      "----------------------------------------\n",
      "fold 2\n",
      "Anomaly Weight: 15\n",
      "AUC: 0.9749591657243373\n",
      "Eval Accuracy: 0.9973711882229233\n",
      "----------------------------------------\n",
      "fold 3\n",
      "Anomaly Weight: 15\n",
      "AUC: 0.9313783507133262\n",
      "Eval Accuracy: 0.9985979670522257\n",
      "----------------------------------------\n",
      "fold 4\n",
      "Anomaly Weight: 15\n",
      "AUC: 0.8938576439339954\n",
      "Eval Accuracy: 0.997546442341395\n",
      "----------------------------------------\n",
      "fold 5\n",
      "Anomaly Weight: 15\n",
      "AUC: 0.8813861631838532\n",
      "Eval Accuracy: 0.9973711882229233\n",
      "\n",
      "Averages: \n",
      "Accuracy: 0.9977568209842593\n",
      "AUC: 0.9211580090402742\n",
      "Best:\n",
      "Accuracy: 0.9985979670522257\n",
      "AUC: 0.9749591657243373\n"
     ]
    }
   ],
   "source": [
    "logs = []\n",
    "\n",
    "for i in range(len(anomaly_weights)):\n",
    "    fold = 1\n",
    "    accuracies = []\n",
    "    auc_scores = []\n",
    "    for train, test in kfold.split(X_validate, y_validate):\n",
    "        weight = anomaly_weights[i]\n",
    "        class_weights = {\n",
    "            0: 1,\n",
    "            1: weight\n",
    "        }\n",
    "        \n",
    "        model = LogisticRegression(random_state=None, max_iter=400, solver='newton-cg',\n",
    "                                  class_weight=class_weights).fit(X_validate[train], y_validate[train])\n",
    "        \n",
    "        for h in range(40):\n",
    "            print('-', end=\"\")\n",
    "        print(f\"\\nfold {fold}\\nAnomaly Weight: {weight}\")\n",
    "        \n",
    "        eval_acc = model.score(X_validate[test], y_validate[test])\n",
    "        preds = model.predict(X_validate[test])\n",
    "        \n",
    "        try:\n",
    "            auc_score = roc_auc_score(y_validate[test], preds)\n",
    "        except:\n",
    "            auc_score = -1\n",
    "        \n",
    "        print(f\"AUC: {auc_score}\\nEval Accuracy: {eval_acc}\")\n",
    "        \n",
    "        accuracies.append(eval_acc)\n",
    "        auc_scores.append(auc_score)\n",
    "        \n",
    "        log = [model, X_validate[test], y_validate[test], preds]\n",
    "        logs.append(log)\n",
    "        fold = fold + 1\n",
    "    \n",
    "    print(\"\\nAverages: \")\n",
    "    print(f\"Accuracy: {np.mean(accuracies)}\")\n",
    "    print(f\"AUC: {np.mean(auc_scores)}\")\n",
    "    \n",
    "    print(\"Best:\")\n",
    "    print(f\"Accuracy: {np.max(accuracies)}\")\n",
    "    print(f\"AUC: {np.max(auc_scores)}\")"
   ]
  },
  {
   "cell_type": "markdown",
   "id": "c644e5af",
   "metadata": {},
   "source": [
    "###### Looking at the results we see that ANOMALY WEIGHT = 10, gives us the best result\n",
    "- To be specific, the model with ANOMALY WEIGHT = 10 and the second fold is the best model."
   ]
  },
  {
   "cell_type": "code",
   "execution_count": 35,
   "id": "4630af3f",
   "metadata": {},
   "outputs": [],
   "source": [
    "model, X_val, y_val, preds = logs[11]"
   ]
  },
  {
   "cell_type": "code",
   "execution_count": 36,
   "id": "6e2cb6ef",
   "metadata": {},
   "outputs": [
    {
     "data": {
      "image/png": "[encoded data removed]",
      "text/plain": [
       "<Figure size 432x288 with 1 Axes>"
      ]
     },
     "metadata": {
      "needs_background": "light"
     },
     "output_type": "display_data"
    }
   ],
   "source": [
    "# lets look at the ROC plot of the above model:\n",
    "roc_plot = plot_roc_curve(model, X_val, y_val)"
   ]
  },
  {
   "cell_type": "code",
   "execution_count": 38,
   "id": "6ed31628",
   "metadata": {},
   "outputs": [
    {
     "name": "stdout",
     "output_type": "stream",
     "text": [
      "0.9751350672194998\n"
     ]
    }
   ],
   "source": [
    "print(roc_auc_score(y_val, preds))"
   ]
  },
  {
   "cell_type": "code",
   "execution_count": 39,
   "id": "b3465fea",
   "metadata": {},
   "outputs": [
    {
     "data": {
      "text/plain": [
       "<sklearn.metrics._plot.confusion_matrix.ConfusionMatrixDisplay at 0x192820df3d0>"
      ]
     },
     "execution_count": 39,
     "metadata": {},
     "output_type": "execute_result"
    },
    {
     "data": {
      "image/png": "[encoded data removed]",
      "text/plain": [
       "<Figure size 432x288 with 2 Axes>"
      ]
     },
     "metadata": {
      "needs_background": "light"
     },
     "output_type": "display_data"
    }
   ],
   "source": [
    "# Lets have a look at the confusion matrix to see why AUC score is 0.975:\n",
    "\n",
    "plot_confusion_matrix(model, X_val, y_val)"
   ]
  },
  {
   "cell_type": "code",
   "execution_count": 42,
   "id": "8b590152",
   "metadata": {},
   "outputs": [],
   "source": [
    "# saving the model:\n",
    "filename = 'models/logreg_sklearn.pkl'\n",
    "\n",
    "pickle.dump(model, open(filename, 'wb'))"
   ]
  },
  {
   "cell_type": "code",
   "execution_count": null,
   "id": "9e2c23b7",
   "metadata": {},
   "outputs": [],
   "source": []
  }
 ],
 "metadata": {
  "kernelspec": {
   "display_name": "Python 3 (ipykernel)",
   "language": "python",
   "name": "python3"
  },
  "language_info": {
   "codemirror_mode": {
    "name": "ipython",
    "version": 3
   },
   "file_extension": ".py",
   "mimetype": "text/x-python",
   "name": "python",
   "nbconvert_exporter": "python",
   "pygments_lexer": "ipython3",
   "version": "3.8.6"
  }
 },
 "nbformat": 4,
 "nbformat_minor": 5
}
